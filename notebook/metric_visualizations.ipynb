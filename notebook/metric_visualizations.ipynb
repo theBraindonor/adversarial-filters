{
 "cells": [
  {
   "cell_type": "code",
   "execution_count": 1,
   "metadata": {},
   "outputs": [],
   "source": [
    "# Base library imports\n",
    "import os\n",
    "import re\n",
    "\n",
    "# Module imports\n",
    "from matplotlib import pyplot as plt\n",
    "import pandas as pd\n",
    "\n",
    "# Quick pathfix required before loading project resources\n",
    "try:\n",
    "    notebook_location\n",
    "except NameError:\n",
    "    notebook_location = os.getcwd()\n",
    "    os.chdir(re.sub(r'(adversarial-filters)[\\\\/].*', r'\\1', notebook_location))"
   ]
  }
 ],
 "metadata": {
  "kernelspec": {
   "display_name": "Python 3",
   "language": "python",
   "name": "python3"
  },
  "language_info": {
   "codemirror_mode": {
    "name": "ipython",
    "version": 3
   },
   "file_extension": ".py",
   "mimetype": "text/x-python",
   "name": "python",
   "nbconvert_exporter": "python",
   "pygments_lexer": "ipython3",
   "version": "3.7.4"
  }
 },
 "nbformat": 4,
 "nbformat_minor": 4
}
